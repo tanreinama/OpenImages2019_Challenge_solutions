{
 "cells": [
  {
   "cell_type": "code",
   "execution_count": 1,
   "metadata": {},
   "outputs": [],
   "source": [
    "import numpy as np\n",
    "import pandas as pd\n",
    "\n",
    "import os\n",
    "import sys\n",
    "from tqdm import tqdm_notebook as tqdm\n",
    "from pathlib import Path\n",
    "import matplotlib.pyplot as plt\n",
    "import PIL"
   ]
  },
  {
   "cell_type": "code",
   "execution_count": 2,
   "metadata": {
    "scrolled": true
   },
   "outputs": [
    {
     "name": "stderr",
     "output_type": "stream",
     "text": [
      "/usr/local/lib/python3.6/dist-packages/tensorflow/python/framework/dtypes.py:526: FutureWarning: Passing (type, 1) or '1type' as a synonym of type is deprecated; in a future version of numpy, it will be understood as (type, (1,)) / '(1,)type'.\n",
      "  _np_qint8 = np.dtype([(\"qint8\", np.int8, 1)])\n",
      "/usr/local/lib/python3.6/dist-packages/tensorflow/python/framework/dtypes.py:527: FutureWarning: Passing (type, 1) or '1type' as a synonym of type is deprecated; in a future version of numpy, it will be understood as (type, (1,)) / '(1,)type'.\n",
      "  _np_quint8 = np.dtype([(\"quint8\", np.uint8, 1)])\n",
      "/usr/local/lib/python3.6/dist-packages/tensorflow/python/framework/dtypes.py:528: FutureWarning: Passing (type, 1) or '1type' as a synonym of type is deprecated; in a future version of numpy, it will be understood as (type, (1,)) / '(1,)type'.\n",
      "  _np_qint16 = np.dtype([(\"qint16\", np.int16, 1)])\n",
      "/usr/local/lib/python3.6/dist-packages/tensorflow/python/framework/dtypes.py:529: FutureWarning: Passing (type, 1) or '1type' as a synonym of type is deprecated; in a future version of numpy, it will be understood as (type, (1,)) / '(1,)type'.\n",
      "  _np_quint16 = np.dtype([(\"quint16\", np.uint16, 1)])\n",
      "/usr/local/lib/python3.6/dist-packages/tensorflow/python/framework/dtypes.py:530: FutureWarning: Passing (type, 1) or '1type' as a synonym of type is deprecated; in a future version of numpy, it will be understood as (type, (1,)) / '(1,)type'.\n",
      "  _np_qint32 = np.dtype([(\"qint32\", np.int32, 1)])\n",
      "/usr/local/lib/python3.6/dist-packages/tensorflow/python/framework/dtypes.py:535: FutureWarning: Passing (type, 1) or '1type' as a synonym of type is deprecated; in a future version of numpy, it will be understood as (type, (1,)) / '(1,)type'.\n",
      "  np_resource = np.dtype([(\"resource\", np.ubyte, 1)])\n"
     ]
    }
   ],
   "source": [
    "import tensorflow as tf\n",
    "import tensorflow_hub as hub"
   ]
  },
  {
   "cell_type": "code",
   "execution_count": 3,
   "metadata": {},
   "outputs": [],
   "source": [
    "#!wget https://storage.googleapis.com/openimages/challenge_2019/challenge-2019-classes-description-500.csv"
   ]
  },
  {
   "cell_type": "code",
   "execution_count": 4,
   "metadata": {},
   "outputs": [
    {
     "data": {
      "text/html": [
       "<div>\n",
       "<style scoped>\n",
       "    .dataframe tbody tr th:only-of-type {\n",
       "        vertical-align: middle;\n",
       "    }\n",
       "\n",
       "    .dataframe tbody tr th {\n",
       "        vertical-align: top;\n",
       "    }\n",
       "\n",
       "    .dataframe thead th {\n",
       "        text-align: right;\n",
       "    }\n",
       "</style>\n",
       "<table border=\"1\" class=\"dataframe\">\n",
       "  <thead>\n",
       "    <tr style=\"text-align: right;\">\n",
       "      <th></th>\n",
       "      <th>ImageId</th>\n",
       "      <th>PredictionString</th>\n",
       "    </tr>\n",
       "  </thead>\n",
       "  <tbody>\n",
       "    <tr>\n",
       "      <td>0</td>\n",
       "      <td>b5d912e06f74e948</td>\n",
       "      <td></td>\n",
       "    </tr>\n",
       "    <tr>\n",
       "      <td>1</td>\n",
       "      <td>be137cf6bb0b62d5</td>\n",
       "      <td></td>\n",
       "    </tr>\n",
       "    <tr>\n",
       "      <td>2</td>\n",
       "      <td>8d65ca08cb5ce8e8</td>\n",
       "      <td></td>\n",
       "    </tr>\n",
       "    <tr>\n",
       "      <td>3</td>\n",
       "      <td>4d3ad1e52ad8c065</td>\n",
       "      <td></td>\n",
       "    </tr>\n",
       "    <tr>\n",
       "      <td>4</td>\n",
       "      <td>9b94408691c7d7bf</td>\n",
       "      <td></td>\n",
       "    </tr>\n",
       "  </tbody>\n",
       "</table>\n",
       "</div>"
      ],
      "text/plain": [
       "            ImageId PredictionString\n",
       "0  b5d912e06f74e948                 \n",
       "1  be137cf6bb0b62d5                 \n",
       "2  8d65ca08cb5ce8e8                 \n",
       "3  4d3ad1e52ad8c065                 \n",
       "4  9b94408691c7d7bf                 "
      ]
     },
     "execution_count": 4,
     "metadata": {},
     "output_type": "execute_result"
    }
   ],
   "source": [
    "class_lookup_df = pd.read_csv(\"./challenge-2019-classes-description-500.csv\", header=None)\n",
    "empty_submission_df = pd.read_csv(\"../input/sample_submission.csv\")\n",
    "empty_submission_df[\"PredictionString\"] = [\"\"] * len(empty_submission_df)\n",
    "empty_submission_df.head()"
   ]
  },
  {
   "cell_type": "code",
   "execution_count": 5,
   "metadata": {},
   "outputs": [
    {
     "data": {
      "text/html": [
       "<div>\n",
       "<style scoped>\n",
       "    .dataframe tbody tr th:only-of-type {\n",
       "        vertical-align: middle;\n",
       "    }\n",
       "\n",
       "    .dataframe tbody tr th {\n",
       "        vertical-align: top;\n",
       "    }\n",
       "\n",
       "    .dataframe thead th {\n",
       "        text-align: right;\n",
       "    }\n",
       "</style>\n",
       "<table border=\"1\" class=\"dataframe\">\n",
       "  <thead>\n",
       "    <tr style=\"text-align: right;\">\n",
       "      <th></th>\n",
       "      <th>encoded_label</th>\n",
       "      <th>label</th>\n",
       "    </tr>\n",
       "  </thead>\n",
       "  <tbody>\n",
       "    <tr>\n",
       "      <td>0</td>\n",
       "      <td>/m/061hd_</td>\n",
       "      <td>infant bed</td>\n",
       "    </tr>\n",
       "    <tr>\n",
       "      <td>1</td>\n",
       "      <td>/m/06m11</td>\n",
       "      <td>rose</td>\n",
       "    </tr>\n",
       "    <tr>\n",
       "      <td>2</td>\n",
       "      <td>/m/03120</td>\n",
       "      <td>flag</td>\n",
       "    </tr>\n",
       "    <tr>\n",
       "      <td>3</td>\n",
       "      <td>/m/01kb5b</td>\n",
       "      <td>flashlight</td>\n",
       "    </tr>\n",
       "    <tr>\n",
       "      <td>4</td>\n",
       "      <td>/m/0120dh</td>\n",
       "      <td>sea turtle</td>\n",
       "    </tr>\n",
       "  </tbody>\n",
       "</table>\n",
       "</div>"
      ],
      "text/plain": [
       "  encoded_label       label\n",
       "0     /m/061hd_  infant bed\n",
       "1      /m/06m11        rose\n",
       "2      /m/03120        flag\n",
       "3     /m/01kb5b  flashlight\n",
       "4     /m/0120dh  sea turtle"
      ]
     },
     "execution_count": 5,
     "metadata": {},
     "output_type": "execute_result"
    }
   ],
   "source": [
    "class_lookup_df.columns = [\"encoded_label\",\"label\"]\n",
    "class_lookup_df['label'] = class_lookup_df['label'].str.lower()\n",
    "class_lookup_df.head()"
   ]
  },
  {
   "cell_type": "code",
   "execution_count": 6,
   "metadata": {
    "scrolled": true
   },
   "outputs": [
    {
     "name": "stdout",
     "output_type": "stream",
     "text": [
      "INFO:tensorflow:Saver not created because there are no variables in the graph to restore\n"
     ]
    },
    {
     "name": "stderr",
     "output_type": "stream",
     "text": [
      "INFO:tensorflow:Saver not created because there are no variables in the graph to restore\n"
     ]
    },
    {
     "name": "stdout",
     "output_type": "stream",
     "text": [
      "INFO:tensorflow:Saver not created because there are no variables in the graph to restore\n"
     ]
    },
    {
     "name": "stderr",
     "output_type": "stream",
     "text": [
      "INFO:tensorflow:Saver not created because there are no variables in the graph to restore\n"
     ]
    },
    {
     "data": {
      "application/vnd.jupyter.widget-view+json": {
       "model_id": "ef9694ab46ac400bb166c167b2128e49",
       "version_major": 2,
       "version_minor": 0
      },
      "text/plain": [
       "HBox(children=(IntProgress(value=0, max=99999), HTML(value='')))"
      ]
     },
     "metadata": {},
     "output_type": "display_data"
    },
    {
     "name": "stdout",
     "output_type": "stream",
     "text": [
      "\n"
     ]
    }
   ],
   "source": [
    "ImageID_list = []\n",
    "PredictionString_list = []\n",
    "\n",
    "with tf.device('/device:GPU:0'):\n",
    "    with tf.Graph().as_default():\n",
    "        detector = hub.Module(\"https://tfhub.dev/google/faster_rcnn/openimages_v4/inception_resnet_v2/1\")\n",
    "        image_string_placeholder = tf.placeholder(tf.string)\n",
    "        decoded_image = tf.image.decode_jpeg(image_string_placeholder)\n",
    "        # Module accepts as input tensors of shape [1, height, width, 3], i.e. batch\n",
    "        # of size 1 and type tf.float32.\n",
    "        decoded_image_float = tf.image.convert_image_dtype(\n",
    "          image=decoded_image, dtype=tf.float32)\n",
    "        module_input = tf.expand_dims(decoded_image_float, 0)\n",
    "        result = detector(module_input, as_dict=True)\n",
    "        init_ops = [tf.global_variables_initializer(), tf.tables_initializer()]\n",
    "\n",
    "        session = tf.Session()\n",
    "        session.run(init_ops)\n",
    "\n",
    "        for file_id in tqdm(empty_submission_df[\"ImageId\"].values, total=len(empty_submission_df)):\n",
    "            with tf.gfile.Open(\"../input/test/\"+file_id+\".jpg\", \"rb\") as binfile:\n",
    "                image_string = binfile.read()\n",
    "\n",
    "            result_out, image_out = session.run(\n",
    "              [result, decoded_image],\n",
    "              feed_dict={image_string_placeholder: image_string})\n",
    "                        \n",
    "            PredictionString = \"\"\n",
    "            \n",
    "            for box, score, labelname in zip(result_out[\"detection_boxes\"],result_out[\"detection_scores\"],result_out[\"detection_class_entities\"]):\n",
    "                labelname = labelname.decode('utf-8').lower()\n",
    "\n",
    "                if class_lookup_df[class_lookup_df[\"label\"] == labelname].shape[0] == 0:\n",
    "                    # no match label\n",
    "                    continue\n",
    "\n",
    "                encoded_label = class_lookup_df[class_lookup_df[\"label\"] == labelname][\"encoded_label\"].values[0]\n",
    "\n",
    "                PredictionString += encoded_label \n",
    "                PredictionString += \" \"\n",
    "                PredictionString += str(score)\n",
    "                PredictionString += \" \"\n",
    "                PredictionString += str(box[0])\n",
    "                PredictionString += \" \"\n",
    "                PredictionString += str(box[1])\n",
    "                PredictionString += \" \"\n",
    "                PredictionString += str(box[2])\n",
    "                PredictionString += \" \"\n",
    "                PredictionString += str(box[3])\n",
    "                PredictionString += \" \"\n",
    "            \n",
    "            ImageID_list.append(file_id)\n",
    "            PredictionString_list.append(PredictionString)\n"
   ]
  },
  {
   "cell_type": "code",
   "execution_count": 7,
   "metadata": {},
   "outputs": [],
   "source": [
    "results=pd.DataFrame({\"ImageId\":ImageID_list,\n",
    "                      \"PredictionString\":PredictionString_list\n",
    "                     })"
   ]
  },
  {
   "cell_type": "code",
   "execution_count": 8,
   "metadata": {},
   "outputs": [
    {
     "data": {
      "text/html": [
       "<div>\n",
       "<style scoped>\n",
       "    .dataframe tbody tr th:only-of-type {\n",
       "        vertical-align: middle;\n",
       "    }\n",
       "\n",
       "    .dataframe tbody tr th {\n",
       "        vertical-align: top;\n",
       "    }\n",
       "\n",
       "    .dataframe thead th {\n",
       "        text-align: right;\n",
       "    }\n",
       "</style>\n",
       "<table border=\"1\" class=\"dataframe\">\n",
       "  <thead>\n",
       "    <tr style=\"text-align: right;\">\n",
       "      <th></th>\n",
       "      <th>ImageId</th>\n",
       "      <th>PredictionString</th>\n",
       "    </tr>\n",
       "  </thead>\n",
       "  <tbody>\n",
       "    <tr>\n",
       "      <td>0</td>\n",
       "      <td>b5d912e06f74e948</td>\n",
       "      <td>/m/04yx4 0.85136557 0.28740385 0.4338511 0.796...</td>\n",
       "    </tr>\n",
       "    <tr>\n",
       "      <td>1</td>\n",
       "      <td>be137cf6bb0b62d5</td>\n",
       "      <td>/m/0hg7b 0.7785667 0.25795442 0.02194678 0.508...</td>\n",
       "    </tr>\n",
       "    <tr>\n",
       "      <td>2</td>\n",
       "      <td>8d65ca08cb5ce8e8</td>\n",
       "      <td>/m/0nybt 0.61177284 0.48958296 0.2892169 0.868...</td>\n",
       "    </tr>\n",
       "    <tr>\n",
       "      <td>3</td>\n",
       "      <td>4d3ad1e52ad8c065</td>\n",
       "      <td>/m/0dzct 0.88811165 0.07232189 0.4327386 0.301...</td>\n",
       "    </tr>\n",
       "    <tr>\n",
       "      <td>4</td>\n",
       "      <td>9b94408691c7d7bf</td>\n",
       "      <td>/m/063rgb 0.6159055 0.0 0.0 0.8935057 0.678049...</td>\n",
       "    </tr>\n",
       "  </tbody>\n",
       "</table>\n",
       "</div>"
      ],
      "text/plain": [
       "            ImageId                                   PredictionString\n",
       "0  b5d912e06f74e948  /m/04yx4 0.85136557 0.28740385 0.4338511 0.796...\n",
       "1  be137cf6bb0b62d5  /m/0hg7b 0.7785667 0.25795442 0.02194678 0.508...\n",
       "2  8d65ca08cb5ce8e8  /m/0nybt 0.61177284 0.48958296 0.2892169 0.868...\n",
       "3  4d3ad1e52ad8c065  /m/0dzct 0.88811165 0.07232189 0.4327386 0.301...\n",
       "4  9b94408691c7d7bf  /m/063rgb 0.6159055 0.0 0.0 0.8935057 0.678049..."
      ]
     },
     "execution_count": 8,
     "metadata": {},
     "output_type": "execute_result"
    }
   ],
   "source": [
    "results.head()"
   ]
  },
  {
   "cell_type": "code",
   "execution_count": 9,
   "metadata": {},
   "outputs": [
    {
     "data": {
      "text/plain": [
       "(99999, 2)"
      ]
     },
     "execution_count": 9,
     "metadata": {},
     "output_type": "execute_result"
    }
   ],
   "source": [
    "results.shape"
   ]
  },
  {
   "cell_type": "code",
   "execution_count": 10,
   "metadata": {},
   "outputs": [],
   "source": [
    "results.to_csv(\"submission006.csv\", index=False)"
   ]
  }
 ],
 "metadata": {
  "kernelspec": {
   "display_name": "Python 3",
   "language": "python",
   "name": "python3"
  },
  "language_info": {
   "codemirror_mode": {
    "name": "ipython",
    "version": 3
   },
   "file_extension": ".py",
   "mimetype": "text/x-python",
   "name": "python",
   "nbconvert_exporter": "python",
   "pygments_lexer": "ipython3",
   "version": "3.6.8"
  }
 },
 "nbformat": 4,
 "nbformat_minor": 1
}
