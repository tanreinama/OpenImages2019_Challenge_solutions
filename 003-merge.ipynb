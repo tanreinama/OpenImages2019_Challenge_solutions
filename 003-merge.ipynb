{
 "cells": [
  {
   "cell_type": "code",
   "execution_count": 1,
   "metadata": {},
   "outputs": [],
   "source": [
    "%matplotlib inline"
   ]
  },
  {
   "cell_type": "code",
   "execution_count": 2,
   "metadata": {},
   "outputs": [],
   "source": [
    "def merge_predstr(a,b):\n",
    "    keylist = []\n",
    "    dst = a + \" \"\n",
    "    alist = list(a.split())\n",
    "    for i in range(0,len(alist),3):\n",
    "        key = alist[i]\n",
    "        keylist.append(key)\n",
    "    blist = list(b.split())\n",
    "    for i in range(0,len(blist),3):\n",
    "        key = blist[i]\n",
    "        coref = blist[i+1]\n",
    "        mask = blist[i+2]\n",
    "        if not key in keylist:\n",
    "            dst += key\n",
    "            dst += \" \"\n",
    "            dst += coref\n",
    "            dst += \" \"\n",
    "            dst += mask\n",
    "            dst += \" \"\n",
    "    return dst"
   ]
  },
  {
   "cell_type": "code",
   "execution_count": 3,
   "metadata": {},
   "outputs": [],
   "source": [
    "import pandas as pd\n",
    "\n",
    "df1 = pd.read_csv(\"submission001.csv\", header=0)\n",
    "df2 = pd.read_csv(\"submission.csv\", header=0)\n",
    "df1 = df1.fillna(\"\")\n",
    "df2 = df2.fillna(\"\")\n",
    "pred = [merge_predstr(a,b) for a,b in zip(df1[\"PredictionString\"].values,df2[\"PredictionString\"].values)]"
   ]
  },
  {
   "cell_type": "code",
   "execution_count": 4,
   "metadata": {},
   "outputs": [
    {
     "data": {
      "text/html": [
       "<div>\n",
       "<style scoped>\n",
       "    .dataframe tbody tr th:only-of-type {\n",
       "        vertical-align: middle;\n",
       "    }\n",
       "\n",
       "    .dataframe tbody tr th {\n",
       "        vertical-align: top;\n",
       "    }\n",
       "\n",
       "    .dataframe thead th {\n",
       "        text-align: right;\n",
       "    }\n",
       "</style>\n",
       "<table border=\"1\" class=\"dataframe\">\n",
       "  <thead>\n",
       "    <tr style=\"text-align: right;\">\n",
       "      <th></th>\n",
       "      <th>ImageID</th>\n",
       "      <th>ImageWidth</th>\n",
       "      <th>ImageHeight</th>\n",
       "      <th>PredictionString</th>\n",
       "    </tr>\n",
       "  </thead>\n",
       "  <tbody>\n",
       "    <tr>\n",
       "      <td>0</td>\n",
       "      <td>80155d58d0ee19bd</td>\n",
       "      <td>1024</td>\n",
       "      <td>683</td>\n",
       "      <td>/m/01k6s3 0.39089352 eNp1U8luwyAQ/SUwtkLqS6WiO...</td>\n",
       "    </tr>\n",
       "    <tr>\n",
       "      <td>1</td>\n",
       "      <td>52a76f3fe21185bf</td>\n",
       "      <td>1024</td>\n",
       "      <td>683</td>\n",
       "      <td>/m/0bt9lr 0.78929484 eNqVkcEOwjAIQH8J2mniyYNXC...</td>\n",
       "    </tr>\n",
       "    <tr>\n",
       "      <td>2</td>\n",
       "      <td>65e9da7c04c8e4cd</td>\n",
       "      <td>1024</td>\n",
       "      <td>682</td>\n",
       "      <td></td>\n",
       "    </tr>\n",
       "    <tr>\n",
       "      <td>3</td>\n",
       "      <td>6d10fa21d93bd6cc</td>\n",
       "      <td>1024</td>\n",
       "      <td>682</td>\n",
       "      <td>/m/01g317 0.99972624 eNqdU21PgzAQ/kvQUq6bWaYxQ...</td>\n",
       "    </tr>\n",
       "    <tr>\n",
       "      <td>4</td>\n",
       "      <td>0841dee573a875ca</td>\n",
       "      <td>1024</td>\n",
       "      <td>683</td>\n",
       "      <td>/m/06_fw 0.7704366 eNpVUmt3ojAU/Es3gq6rW+vj2Fb...</td>\n",
       "    </tr>\n",
       "  </tbody>\n",
       "</table>\n",
       "</div>"
      ],
      "text/plain": [
       "            ImageID  ImageWidth  ImageHeight  \\\n",
       "0  80155d58d0ee19bd        1024          683   \n",
       "1  52a76f3fe21185bf        1024          683   \n",
       "2  65e9da7c04c8e4cd        1024          682   \n",
       "3  6d10fa21d93bd6cc        1024          682   \n",
       "4  0841dee573a875ca        1024          683   \n",
       "\n",
       "                                    PredictionString  \n",
       "0  /m/01k6s3 0.39089352 eNp1U8luwyAQ/SUwtkLqS6WiO...  \n",
       "1  /m/0bt9lr 0.78929484 eNqVkcEOwjAIQH8J2mniyYNXC...  \n",
       "2                                                     \n",
       "3  /m/01g317 0.99972624 eNqdU21PgzAQ/kvQUq6bWaYxQ...  \n",
       "4  /m/06_fw 0.7704366 eNpVUmt3ojAU/Es3gq6rW+vj2Fb...  "
      ]
     },
     "execution_count": 4,
     "metadata": {},
     "output_type": "execute_result"
    }
   ],
   "source": [
    "df1[\"PredictionString\"] = pred\n",
    "df1.head()"
   ]
  },
  {
   "cell_type": "code",
   "execution_count": 5,
   "metadata": {},
   "outputs": [],
   "source": [
    "df1.to_csv(\"submission003a.csv\", index=False)"
   ]
  },
  {
   "cell_type": "code",
   "execution_count": 6,
   "metadata": {},
   "outputs": [],
   "source": [
    "df1 = pd.read_csv(\"submission.csv\", header=0)\n",
    "df2 = pd.read_csv(\"submission001.csv\", header=0)\n",
    "df1 = df1.fillna(\"\")\n",
    "df2 = df2.fillna(\"\")\n",
    "pred = [merge_predstr(a,b) for a,b in zip(df1[\"PredictionString\"].values,df2[\"PredictionString\"].values)]"
   ]
  },
  {
   "cell_type": "code",
   "execution_count": 7,
   "metadata": {},
   "outputs": [
    {
     "data": {
      "text/html": [
       "<div>\n",
       "<style scoped>\n",
       "    .dataframe tbody tr th:only-of-type {\n",
       "        vertical-align: middle;\n",
       "    }\n",
       "\n",
       "    .dataframe tbody tr th {\n",
       "        vertical-align: top;\n",
       "    }\n",
       "\n",
       "    .dataframe thead th {\n",
       "        text-align: right;\n",
       "    }\n",
       "</style>\n",
       "<table border=\"1\" class=\"dataframe\">\n",
       "  <thead>\n",
       "    <tr style=\"text-align: right;\">\n",
       "      <th></th>\n",
       "      <th>ImageID</th>\n",
       "      <th>ImageWidth</th>\n",
       "      <th>ImageHeight</th>\n",
       "      <th>PredictionString</th>\n",
       "    </tr>\n",
       "  </thead>\n",
       "  <tbody>\n",
       "    <tr>\n",
       "      <td>0</td>\n",
       "      <td>80155d58d0ee19bd</td>\n",
       "      <td>1024</td>\n",
       "      <td>683</td>\n",
       "      <td>/m/0k4j 0.77266175 eNp1U9tugzAM/aVcSFrxwFurlRC...</td>\n",
       "    </tr>\n",
       "    <tr>\n",
       "      <td>1</td>\n",
       "      <td>52a76f3fe21185bf</td>\n",
       "      <td>1024</td>\n",
       "      <td>683</td>\n",
       "      <td>/m/04dr76w 0.778187 eNp1EtlygjDwlzYQCFh6DhpIIF...</td>\n",
       "    </tr>\n",
       "    <tr>\n",
       "      <td>2</td>\n",
       "      <td>65e9da7c04c8e4cd</td>\n",
       "      <td>1024</td>\n",
       "      <td>682</td>\n",
       "      <td></td>\n",
       "    </tr>\n",
       "    <tr>\n",
       "      <td>3</td>\n",
       "      <td>6d10fa21d93bd6cc</td>\n",
       "      <td>1024</td>\n",
       "      <td>682</td>\n",
       "      <td>/m/01g317 0.9982078 eNqFU22TojAM/ktAkeB43s7u3R...</td>\n",
       "    </tr>\n",
       "    <tr>\n",
       "      <td>4</td>\n",
       "      <td>0841dee573a875ca</td>\n",
       "      <td>1024</td>\n",
       "      <td>683</td>\n",
       "      <td>/m/06_fw 0.7704366 eNpVUmt3ojAU/Es3gq6rW+vj2F...</td>\n",
       "    </tr>\n",
       "  </tbody>\n",
       "</table>\n",
       "</div>"
      ],
      "text/plain": [
       "            ImageID  ImageWidth  ImageHeight  \\\n",
       "0  80155d58d0ee19bd        1024          683   \n",
       "1  52a76f3fe21185bf        1024          683   \n",
       "2  65e9da7c04c8e4cd        1024          682   \n",
       "3  6d10fa21d93bd6cc        1024          682   \n",
       "4  0841dee573a875ca        1024          683   \n",
       "\n",
       "                                    PredictionString  \n",
       "0  /m/0k4j 0.77266175 eNp1U9tugzAM/aVcSFrxwFurlRC...  \n",
       "1  /m/04dr76w 0.778187 eNp1EtlygjDwlzYQCFh6DhpIIF...  \n",
       "2                                                     \n",
       "3  /m/01g317 0.9982078 eNqFU22TojAM/ktAkeB43s7u3R...  \n",
       "4   /m/06_fw 0.7704366 eNpVUmt3ojAU/Es3gq6rW+vj2F...  "
      ]
     },
     "execution_count": 7,
     "metadata": {},
     "output_type": "execute_result"
    }
   ],
   "source": [
    "df1[\"PredictionString\"] = pred\n",
    "df1.head()"
   ]
  },
  {
   "cell_type": "code",
   "execution_count": 8,
   "metadata": {},
   "outputs": [],
   "source": [
    "df1.to_csv(\"submission003b.csv\", index=False)"
   ]
  },
  {
   "cell_type": "code",
   "execution_count": null,
   "metadata": {},
   "outputs": [],
   "source": []
  }
 ],
 "metadata": {
  "kernelspec": {
   "display_name": "Python 3",
   "language": "python",
   "name": "python3"
  },
  "language_info": {
   "codemirror_mode": {
    "name": "ipython",
    "version": 3
   },
   "file_extension": ".py",
   "mimetype": "text/x-python",
   "name": "python",
   "nbconvert_exporter": "python",
   "pygments_lexer": "ipython3",
   "version": "3.6.8"
  }
 },
 "nbformat": 4,
 "nbformat_minor": 2
}
